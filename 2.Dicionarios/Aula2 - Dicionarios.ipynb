{
 "cells": [
  {
   "cell_type": "markdown",
   "id": "69e9ab77-aa13-4a0a-af1a-4e75d79dddae",
   "metadata": {},
   "source": [
    "### Definição de Dicionarios: É um objeto que representa a coleção de um ou mais objetos. Cada objeto tem sua chave e seu valor. Assim, para acessar um valor de determindado objeto, basta chamarmos sua chave. Os dicionarios são iniciados e terminados por colchetes { }."
   ]
  },
  {
   "cell_type": "markdown",
   "id": "e219c024-c352-4325-bf74-3561371177c6",
   "metadata": {},
   "source": [
    "#### Criando dicionarios"
   ]
  },
  {
   "cell_type": "code",
   "execution_count": 3,
   "id": "13023a17-7719-456c-bbf9-c49cb1d4e91c",
   "metadata": {},
   "outputs": [],
   "source": [
    "dict1 = {'chave1': 'valor1',\n",
    "         'chave2': 'valor2'}"
   ]
  },
  {
   "cell_type": "code",
   "execution_count": 4,
   "id": "6a94637b-5c21-479e-9940-12c6aa5ad89c",
   "metadata": {},
   "outputs": [
    {
     "data": {
      "text/plain": [
       "{'chave1': 'valor1', 'chave2': 'valor2'}"
      ]
     },
     "execution_count": 4,
     "metadata": {},
     "output_type": "execute_result"
    }
   ],
   "source": [
    "dict1"
   ]
  },
  {
   "cell_type": "code",
   "execution_count": 5,
   "id": "14c039c6-1f20-4a1c-910c-887d955f3e0c",
   "metadata": {},
   "outputs": [
    {
     "data": {
      "text/plain": [
       "dict"
      ]
     },
     "execution_count": 5,
     "metadata": {},
     "output_type": "execute_result"
    }
   ],
   "source": [
    "type(dict1)"
   ]
  },
  {
   "cell_type": "code",
   "execution_count": 6,
   "id": "ba273468-4684-49f7-aca7-8882cae27960",
   "metadata": {},
   "outputs": [],
   "source": [
    "dict2 = dict(a = 1, \n",
    "             b = 2, \n",
    "             c = 3, \n",
    "             d = 'a')"
   ]
  },
  {
   "cell_type": "code",
   "execution_count": 8,
   "id": "45d55c72-7bd1-4cde-aee1-3ad3e56beaed",
   "metadata": {},
   "outputs": [
    {
     "data": {
      "text/plain": [
       "{'a': 1, 'b': 2, 'c': 3, 'd': 'a'}"
      ]
     },
     "execution_count": 8,
     "metadata": {},
     "output_type": "execute_result"
    }
   ],
   "source": [
    "dict2"
   ]
  },
  {
   "cell_type": "code",
   "execution_count": 10,
   "id": "ea0e7844-4fba-468e-9879-ceee824093ab",
   "metadata": {},
   "outputs": [],
   "source": [
    "dict3 = dict([('a', 1), \n",
    "              ('b', 2),\n",
    "              ('c', 3)])"
   ]
  },
  {
   "cell_type": "code",
   "execution_count": 11,
   "id": "67fc2ab8-a59b-4c74-b00f-94c0d6b4819f",
   "metadata": {},
   "outputs": [
    {
     "data": {
      "text/plain": [
       "{'a': 1, 'b': 2, 'c': 3}"
      ]
     },
     "execution_count": 11,
     "metadata": {},
     "output_type": "execute_result"
    }
   ],
   "source": [
    "dict3"
   ]
  },
  {
   "cell_type": "code",
   "execution_count": 12,
   "id": "320c9113-d37b-4782-81e9-788197cf0011",
   "metadata": {},
   "outputs": [],
   "source": [
    "dict4 = {'chave1': ['valor1', 2, 3],\n",
    "         'chave2': [2, 'idade', 'nome']}"
   ]
  },
  {
   "cell_type": "code",
   "execution_count": 13,
   "id": "e5f5e994-47cc-453c-9518-0a5d6c1fbb45",
   "metadata": {},
   "outputs": [
    {
     "data": {
      "text/plain": [
       "{'chave1': ['valor1', 2, 3], 'chave2': [2, 'idade', 'nome']}"
      ]
     },
     "execution_count": 13,
     "metadata": {},
     "output_type": "execute_result"
    }
   ],
   "source": [
    "dict4"
   ]
  },
  {
   "cell_type": "code",
   "execution_count": 19,
   "id": "ed49c3f4-7ddd-4621-9a18-93007ef83cfe",
   "metadata": {},
   "outputs": [],
   "source": [
    "dict5 = {'id':[1, 2, 3], \n",
    "         'user': {'nome': ['Caio', 'Rodrigo', 'Rafael'],\n",
    "                  'idade': [29, 30, 29]}}"
   ]
  },
  {
   "cell_type": "code",
   "execution_count": 20,
   "id": "88a3ec88-b4e5-4639-9925-94176186a151",
   "metadata": {},
   "outputs": [
    {
     "data": {
      "text/plain": [
       "{'id': [1, 2, 3],\n",
       " 'user': {'nome': ['Caio', 'Rodrigo', 'Rafael'], 'idade': [29, 30, 29]}}"
      ]
     },
     "execution_count": 20,
     "metadata": {},
     "output_type": "execute_result"
    }
   ],
   "source": [
    "dict5"
   ]
  },
  {
   "cell_type": "code",
   "execution_count": 21,
   "id": "519af9ca-9a97-4088-b8b1-6a9123681067",
   "metadata": {},
   "outputs": [],
   "source": [
    "dict6 = dict(zip(['chave', 'chave2', 'chave3'],\n",
    "                 ['valor1', 'valor2', 'valor3']))"
   ]
  },
  {
   "cell_type": "code",
   "execution_count": 22,
   "id": "ec87ad9a-1150-4f7b-8623-8cbd0a40998c",
   "metadata": {},
   "outputs": [
    {
     "data": {
      "text/plain": [
       "{'chave': 'valor1', 'chave2': 'valor2', 'chave3': 'valor3'}"
      ]
     },
     "execution_count": 22,
     "metadata": {},
     "output_type": "execute_result"
    }
   ],
   "source": [
    "dict6"
   ]
  },
  {
   "cell_type": "code",
   "execution_count": 23,
   "id": "78fa917d-518f-4ec5-9840-c7ebafc9a542",
   "metadata": {},
   "outputs": [],
   "source": [
    "dict7 = {'nome': ('Caio', 'Rafael'),\n",
    "        'idade': (29, 30)}"
   ]
  },
  {
   "cell_type": "code",
   "execution_count": 24,
   "id": "dc73fcfc-7440-4bfd-93bb-8adcbb9998fa",
   "metadata": {},
   "outputs": [
    {
     "data": {
      "text/plain": [
       "{'nome': ('Caio', 'Rafael'), 'idade': (29, 30)}"
      ]
     },
     "execution_count": 24,
     "metadata": {},
     "output_type": "execute_result"
    }
   ],
   "source": [
    "dict7"
   ]
  },
  {
   "cell_type": "markdown",
   "id": "2c7281fc-e54a-457f-8844-f774b98eec2d",
   "metadata": {},
   "source": [
    "#### Acessando valores do dicionário"
   ]
  },
  {
   "cell_type": "code",
   "execution_count": 25,
   "id": "9c29decb-a82d-42cd-8e36-0ff8073c76d2",
   "metadata": {},
   "outputs": [
    {
     "data": {
      "text/plain": [
       "{'chave1': 'valor1', 'chave2': 'valor2'}"
      ]
     },
     "execution_count": 25,
     "metadata": {},
     "output_type": "execute_result"
    }
   ],
   "source": [
    "dict1"
   ]
  },
  {
   "cell_type": "code",
   "execution_count": 26,
   "id": "f7bfe2a2-3bbe-4f7c-a197-3644d9fe5eb4",
   "metadata": {},
   "outputs": [
    {
     "data": {
      "text/plain": [
       "'valor1'"
      ]
     },
     "execution_count": 26,
     "metadata": {},
     "output_type": "execute_result"
    }
   ],
   "source": [
    "dict1['chave1']"
   ]
  },
  {
   "cell_type": "code",
   "execution_count": 28,
   "id": "151e0a5f-52f3-4c45-9e52-54ecd3b1f784",
   "metadata": {},
   "outputs": [
    {
     "data": {
      "text/plain": [
       "'valor2'"
      ]
     },
     "execution_count": 28,
     "metadata": {},
     "output_type": "execute_result"
    }
   ],
   "source": [
    "dict1.get('chave2')"
   ]
  },
  {
   "cell_type": "code",
   "execution_count": 29,
   "id": "63c537f7-d22b-4586-a81c-166fcbc2ec89",
   "metadata": {},
   "outputs": [
    {
     "data": {
      "text/plain": [
       "'Não existe essa chave!!!'"
      ]
     },
     "execution_count": 29,
     "metadata": {},
     "output_type": "execute_result"
    }
   ],
   "source": [
    "dict1.get('Chave1', 'Não existe essa chave!!!')"
   ]
  },
  {
   "cell_type": "code",
   "execution_count": 33,
   "id": "7c327f8c-0bef-4bb6-a3e2-03cca84c9492",
   "metadata": {},
   "outputs": [
    {
     "data": {
      "text/plain": [
       "'valor2'"
      ]
     },
     "execution_count": 33,
     "metadata": {},
     "output_type": "execute_result"
    }
   ],
   "source": [
    "dict1.get(list(dict1)[1])"
   ]
  },
  {
   "cell_type": "code",
   "execution_count": 35,
   "id": "e983d34e-0267-4714-aed2-af615322fb5c",
   "metadata": {},
   "outputs": [
    {
     "data": {
      "text/plain": [
       "{'chave1': 'valor1', 'chave2': 'valor2'}"
      ]
     },
     "execution_count": 35,
     "metadata": {},
     "output_type": "execute_result"
    }
   ],
   "source": [
    "dict1"
   ]
  },
  {
   "cell_type": "code",
   "execution_count": 36,
   "id": "687d42a4-9c08-47e9-8927-970cdbf2f8ea",
   "metadata": {},
   "outputs": [
    {
     "name": "stdout",
     "output_type": "stream",
     "text": [
      "chave1 valor1\n",
      "chave2 valor2\n"
     ]
    }
   ],
   "source": [
    "for chave in dict1.keys() :\n",
    "    print (chave, dict1[chave])"
   ]
  },
  {
   "cell_type": "code",
   "execution_count": 37,
   "id": "621825d0-5fbc-499d-bd69-d2834224123f",
   "metadata": {},
   "outputs": [
    {
     "name": "stdout",
     "output_type": "stream",
     "text": [
      "chave1 valor1\n",
      "chave2 valor2\n"
     ]
    }
   ],
   "source": [
    "for chave, valor in dict1.items() :\n",
    "    print (chave, valor)"
   ]
  },
  {
   "cell_type": "markdown",
   "id": "9a888166-938d-48ed-90ba-2a5332481489",
   "metadata": {},
   "source": [
    "### Juntando dicionários"
   ]
  },
  {
   "cell_type": "code",
   "execution_count": 38,
   "id": "08929bd9-9825-4d35-8eff-74e3f1232e4b",
   "metadata": {},
   "outputs": [
    {
     "data": {
      "text/plain": [
       "{'chave1': 'valor1', 'chave2': 'valor2'}"
      ]
     },
     "execution_count": 38,
     "metadata": {},
     "output_type": "execute_result"
    }
   ],
   "source": [
    "dict1"
   ]
  },
  {
   "cell_type": "code",
   "execution_count": 39,
   "id": "f3395702-2342-45fd-8a4b-ce2866af56e6",
   "metadata": {},
   "outputs": [
    {
     "data": {
      "text/plain": [
       "{'a': 1, 'b': 2, 'c': 3, 'd': 'a'}"
      ]
     },
     "execution_count": 39,
     "metadata": {},
     "output_type": "execute_result"
    }
   ],
   "source": [
    "dict2"
   ]
  },
  {
   "cell_type": "code",
   "execution_count": 40,
   "id": "228eacdf-7e7a-4621-9fac-49d399c77351",
   "metadata": {},
   "outputs": [],
   "source": [
    "dict1.update(dict2)"
   ]
  },
  {
   "cell_type": "code",
   "execution_count": 41,
   "id": "bcde0982-e82b-4efc-a5ed-462c094a67b8",
   "metadata": {},
   "outputs": [
    {
     "data": {
      "text/plain": [
       "{'chave1': 'valor1', 'chave2': 'valor2', 'a': 1, 'b': 2, 'c': 3, 'd': 'a'}"
      ]
     },
     "execution_count": 41,
     "metadata": {},
     "output_type": "execute_result"
    }
   ],
   "source": [
    "dict1"
   ]
  },
  {
   "cell_type": "code",
   "execution_count": 43,
   "id": "1a165c0a-b55b-4e01-b3d1-a46d1e2ba50f",
   "metadata": {},
   "outputs": [],
   "source": [
    "dict1[\"NOVA CHAVE\"] = 1000"
   ]
  },
  {
   "cell_type": "code",
   "execution_count": 44,
   "id": "2aa59d99-b69c-48ec-80db-477f43a78bc6",
   "metadata": {},
   "outputs": [
    {
     "data": {
      "text/plain": [
       "{'chave1': 'valor1',\n",
       " 'chave2': 'valor2',\n",
       " 'a': 1,\n",
       " 'b': 2,\n",
       " 'c': 3,\n",
       " 'd': 'a',\n",
       " 'NOVA CHAVE': 1000}"
      ]
     },
     "execution_count": 44,
     "metadata": {},
     "output_type": "execute_result"
    }
   ],
   "source": [
    "dict1"
   ]
  },
  {
   "cell_type": "code",
   "execution_count": 45,
   "id": "3cee032f-e617-4cb6-85c9-45380cdad359",
   "metadata": {},
   "outputs": [],
   "source": [
    "dict1.update({'OUTRA CHAVE': 'OUTRO VALOR'})"
   ]
  },
  {
   "cell_type": "markdown",
   "id": "0271b268-1ad6-418a-a497-3e29f9265453",
   "metadata": {},
   "source": [
    "dict1"
   ]
  },
  {
   "cell_type": "code",
   "execution_count": 48,
   "id": "1ec8b8a6-bc9f-4013-b8b3-91c345352fbe",
   "metadata": {},
   "outputs": [
    {
     "data": {
      "text/plain": [
       "{'a': 1, 'b': 2, 'c': 3, 'd': 'a'}"
      ]
     },
     "execution_count": 48,
     "metadata": {},
     "output_type": "execute_result"
    }
   ],
   "source": [
    "dict2"
   ]
  },
  {
   "cell_type": "code",
   "execution_count": 49,
   "id": "1463945e-33f5-448f-a6f5-1534298e353f",
   "metadata": {},
   "outputs": [
    {
     "data": {
      "text/plain": [
       "{'a': 1, 'b': 2, 'c': 3}"
      ]
     },
     "execution_count": 49,
     "metadata": {},
     "output_type": "execute_result"
    }
   ],
   "source": [
    "dict3"
   ]
  },
  {
   "cell_type": "code",
   "execution_count": 51,
   "id": "a85d8a04-2d44-4812-a169-b2ce33ccfcdf",
   "metadata": {},
   "outputs": [],
   "source": [
    "dict3.update({'c': 5})"
   ]
  },
  {
   "cell_type": "code",
   "execution_count": 52,
   "id": "ea554932-709f-4679-962d-1602eda4157e",
   "metadata": {},
   "outputs": [
    {
     "data": {
      "text/plain": [
       "{'a': 1, 'b': 2, 'c': 5, 'd': 'a'}"
      ]
     },
     "execution_count": 52,
     "metadata": {},
     "output_type": "execute_result"
    }
   ],
   "source": [
    "{**dict2, **dict3}"
   ]
  },
  {
   "cell_type": "markdown",
   "id": "4a0c8ad7-b9e2-41bf-8566-76bfca3aee02",
   "metadata": {},
   "source": [
    "#### Verificar se um valor pertence à chave"
   ]
  },
  {
   "cell_type": "code",
   "execution_count": 53,
   "id": "dd204e70-3315-4e81-baa6-9cbe5db35da1",
   "metadata": {},
   "outputs": [
    {
     "data": {
      "text/plain": [
       "{'a': 1, 'b': 2, 'c': 5}"
      ]
     },
     "execution_count": 53,
     "metadata": {},
     "output_type": "execute_result"
    }
   ],
   "source": [
    "dict3"
   ]
  },
  {
   "cell_type": "code",
   "execution_count": 54,
   "id": "e9d07504-1345-40c3-8d42-ab3784f56e1a",
   "metadata": {},
   "outputs": [
    {
     "data": {
      "text/plain": [
       "True"
      ]
     },
     "execution_count": 54,
     "metadata": {},
     "output_type": "execute_result"
    }
   ],
   "source": [
    "1 == dict3['a']"
   ]
  },
  {
   "cell_type": "code",
   "execution_count": 55,
   "id": "17df3b89-c591-44b4-8271-4592f33601e8",
   "metadata": {},
   "outputs": [
    {
     "data": {
      "text/plain": [
       "False"
      ]
     },
     "execution_count": 55,
     "metadata": {},
     "output_type": "execute_result"
    }
   ],
   "source": [
    "0 == dict3['a']"
   ]
  },
  {
   "cell_type": "markdown",
   "id": "5181a919-b4f9-42b4-8bb2-767365ffe26c",
   "metadata": {},
   "source": [
    "#### Métodos"
   ]
  },
  {
   "cell_type": "code",
   "execution_count": 56,
   "id": "9cf112bb-5146-4f4f-812b-08eb34ef969c",
   "metadata": {},
   "outputs": [],
   "source": [
    "dict3.clear()"
   ]
  },
  {
   "cell_type": "code",
   "execution_count": 58,
   "id": "8395ab48-46ad-4224-9de8-2a4584f83c66",
   "metadata": {},
   "outputs": [
    {
     "data": {
      "text/plain": [
       "{}"
      ]
     },
     "execution_count": 58,
     "metadata": {},
     "output_type": "execute_result"
    }
   ],
   "source": [
    "dict3"
   ]
  },
  {
   "cell_type": "code",
   "execution_count": 59,
   "id": "d257c767-50a8-42de-b257-19f61a9dad9a",
   "metadata": {},
   "outputs": [],
   "source": [
    "dict1000 = dict3.copy()"
   ]
  },
  {
   "cell_type": "code",
   "execution_count": 60,
   "id": "610c0e14-e138-4e14-8e92-a8cb684aaed9",
   "metadata": {},
   "outputs": [
    {
     "data": {
      "text/plain": [
       "{}"
      ]
     },
     "execution_count": 60,
     "metadata": {},
     "output_type": "execute_result"
    }
   ],
   "source": [
    "dict1000"
   ]
  },
  {
   "cell_type": "code",
   "execution_count": 61,
   "id": "2029e102-27fb-4d00-84cf-05404fbc3c18",
   "metadata": {},
   "outputs": [
    {
     "data": {
      "text/plain": [
       "{'chave1': ['valor1', 2, 3], 'chave2': [2, 'idade', 'nome']}"
      ]
     },
     "execution_count": 61,
     "metadata": {},
     "output_type": "execute_result"
    }
   ],
   "source": [
    "dict4"
   ]
  },
  {
   "cell_type": "code",
   "execution_count": 62,
   "id": "370bb101-cd32-49f8-a728-4cc4b4d702c1",
   "metadata": {},
   "outputs": [
    {
     "data": {
      "text/plain": [
       "['valor1', 2, 3]"
      ]
     },
     "execution_count": 62,
     "metadata": {},
     "output_type": "execute_result"
    }
   ],
   "source": [
    "dict4.pop ('chave1')"
   ]
  },
  {
   "cell_type": "code",
   "execution_count": 63,
   "id": "688092ae-efaf-4ad7-9bf6-ecf60698f981",
   "metadata": {},
   "outputs": [
    {
     "data": {
      "text/plain": [
       "{'chave2': [2, 'idade', 'nome']}"
      ]
     },
     "execution_count": 63,
     "metadata": {},
     "output_type": "execute_result"
    }
   ],
   "source": [
    "dict4"
   ]
  },
  {
   "cell_type": "code",
   "execution_count": 64,
   "id": "f0c35f25-3e87-44c5-b54d-9803b93c5973",
   "metadata": {},
   "outputs": [
    {
     "data": {
      "text/plain": [
       "{'chave': 'valor1', 'chave2': 'valor2', 'chave3': 'valor3'}"
      ]
     },
     "execution_count": 64,
     "metadata": {},
     "output_type": "execute_result"
    }
   ],
   "source": [
    "dict6"
   ]
  },
  {
   "cell_type": "code",
   "execution_count": 66,
   "id": "39c4b292-0e9b-4d0c-ac8f-393d710ea16b",
   "metadata": {},
   "outputs": [
    {
     "data": {
      "text/plain": [
       "('chave3', 'valor3')"
      ]
     },
     "execution_count": 66,
     "metadata": {},
     "output_type": "execute_result"
    }
   ],
   "source": [
    "dict6.popitem()"
   ]
  },
  {
   "cell_type": "code",
   "execution_count": 67,
   "id": "f38b7239-390b-4b60-9639-40a6d826535b",
   "metadata": {},
   "outputs": [
    {
     "data": {
      "text/plain": [
       "{'chave': 'valor1', 'chave2': 'valor2'}"
      ]
     },
     "execution_count": 67,
     "metadata": {},
     "output_type": "execute_result"
    }
   ],
   "source": [
    "dict6"
   ]
  },
  {
   "cell_type": "code",
   "execution_count": null,
   "id": "6567600c-ae26-4935-8c45-b3c3622a3147",
   "metadata": {},
   "outputs": [],
   "source": []
  }
 ],
 "metadata": {
  "kernelspec": {
   "display_name": "Python 3 (ipykernel)",
   "language": "python",
   "name": "python3"
  },
  "language_info": {
   "codemirror_mode": {
    "name": "ipython",
    "version": 3
   },
   "file_extension": ".py",
   "mimetype": "text/x-python",
   "name": "python",
   "nbconvert_exporter": "python",
   "pygments_lexer": "ipython3",
   "version": "3.12.0"
  }
 },
 "nbformat": 4,
 "nbformat_minor": 5
}
