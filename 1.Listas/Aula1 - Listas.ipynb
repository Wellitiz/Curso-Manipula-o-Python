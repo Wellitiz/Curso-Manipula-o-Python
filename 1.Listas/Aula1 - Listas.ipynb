{
 "cells": [
  {
   "cell_type": "code",
   "execution_count": 1,
   "id": "a1be2463-c27c-4eaa-9bc7-66f6bc51954d",
   "metadata": {},
   "outputs": [],
   "source": [
    "lst = [1, 2, 3]"
   ]
  },
  {
   "cell_type": "code",
   "execution_count": 2,
   "id": "a057d2eb-c2b6-42a4-92c3-6c9feec4194f",
   "metadata": {},
   "outputs": [
    {
     "data": {
      "text/plain": [
       "[1, 2, 3]"
      ]
     },
     "execution_count": 2,
     "metadata": {},
     "output_type": "execute_result"
    }
   ],
   "source": [
    "lst"
   ]
  },
  {
   "cell_type": "code",
   "execution_count": 3,
   "id": "87cb6472-4728-4c5d-ac60-90ed40140ee6",
   "metadata": {},
   "outputs": [
    {
     "data": {
      "text/plain": [
       "list"
      ]
     },
     "execution_count": 3,
     "metadata": {},
     "output_type": "execute_result"
    }
   ],
   "source": [
    "type(lst)"
   ]
  },
  {
   "cell_type": "code",
   "execution_count": 5,
   "id": "b8c48c05-fd84-4bcb-adb2-b1551cac2427",
   "metadata": {},
   "outputs": [],
   "source": [
    "lst2 = list((1, 2, 3))"
   ]
  },
  {
   "cell_type": "code",
   "execution_count": 6,
   "id": "ecbb9bb3-b95a-466d-9dda-166db1af151b",
   "metadata": {},
   "outputs": [
    {
     "data": {
      "text/plain": [
       "[1, 2, 3]"
      ]
     },
     "execution_count": 6,
     "metadata": {},
     "output_type": "execute_result"
    }
   ],
   "source": [
    "lst2"
   ]
  },
  {
   "cell_type": "code",
   "execution_count": 7,
   "id": "27c0be34-0380-497d-b410-49ece3f39bde",
   "metadata": {},
   "outputs": [],
   "source": [
    "lst3 = list([1, 2, 3])"
   ]
  },
  {
   "cell_type": "code",
   "execution_count": 8,
   "id": "76dfd9ad-d170-49b3-a5a0-ad06cd0af7aa",
   "metadata": {},
   "outputs": [
    {
     "data": {
      "text/plain": [
       "[1, 2, 3]"
      ]
     },
     "execution_count": 8,
     "metadata": {},
     "output_type": "execute_result"
    }
   ],
   "source": [
    "lst3"
   ]
  },
  {
   "cell_type": "code",
   "execution_count": 9,
   "id": "54c5f72e-8620-498b-8fc5-9cc405ed90bd",
   "metadata": {},
   "outputs": [],
   "source": [
    "lst4 = list(\"123\")"
   ]
  },
  {
   "cell_type": "code",
   "execution_count": 10,
   "id": "d53d3d9b-fe42-4e23-9dee-894a510ee9da",
   "metadata": {},
   "outputs": [
    {
     "data": {
      "text/plain": [
       "['1', '2', '3']"
      ]
     },
     "execution_count": 10,
     "metadata": {},
     "output_type": "execute_result"
    }
   ],
   "source": [
    "lst4"
   ]
  },
  {
   "cell_type": "code",
   "execution_count": 16,
   "id": "eb071b6e-8c52-430f-af7c-c0fcdc94cdbd",
   "metadata": {},
   "outputs": [],
   "source": [
    "lst5 = []"
   ]
  },
  {
   "cell_type": "code",
   "execution_count": 18,
   "id": "19205e1d-c2ad-4156-91d4-c2ff0ebdbaf5",
   "metadata": {},
   "outputs": [
    {
     "data": {
      "text/plain": [
       "0"
      ]
     },
     "execution_count": 18,
     "metadata": {},
     "output_type": "execute_result"
    }
   ],
   "source": [
    "len(lst5)"
   ]
  },
  {
   "cell_type": "code",
   "execution_count": 19,
   "id": "49f14a61-1249-4439-bf45-6b5c68ffa419",
   "metadata": {},
   "outputs": [
    {
     "data": {
      "text/plain": [
       "3"
      ]
     },
     "execution_count": 19,
     "metadata": {},
     "output_type": "execute_result"
    }
   ],
   "source": [
    "len(lst4)"
   ]
  },
  {
   "cell_type": "code",
   "execution_count": 21,
   "id": "6aed8b86-d744-4315-866b-d62d2f23f142",
   "metadata": {},
   "outputs": [
    {
     "name": "stdout",
     "output_type": "stream",
     "text": [
      "[]\n",
      "[1]\n",
      "[1, 2]\n",
      "[1, 2, 3]\n"
     ]
    }
   ],
   "source": [
    "for elemento in range (4) :\n",
    "    if elemento !=0:\n",
    "        lst5.append(elemento)\n",
    "    print(lst5)"
   ]
  },
  {
   "cell_type": "code",
   "execution_count": 22,
   "id": "bff61bb9-5c0d-4cc9-81cf-fea688068de4",
   "metadata": {},
   "outputs": [],
   "source": [
    "lst6 = ['a', 2, 4, 'c']"
   ]
  },
  {
   "cell_type": "code",
   "execution_count": 23,
   "id": "c5e27dac-f87a-43de-be59-afd88fe7a584",
   "metadata": {},
   "outputs": [
    {
     "data": {
      "text/plain": [
       "['a', 2, 4, 'c']"
      ]
     },
     "execution_count": 23,
     "metadata": {},
     "output_type": "execute_result"
    }
   ],
   "source": [
    "lst6"
   ]
  },
  {
   "cell_type": "code",
   "execution_count": 25,
   "id": "0bd8ab6d-9a47-4420-96a1-a3b453e11d51",
   "metadata": {},
   "outputs": [],
   "source": [
    "lst7 = [1, [2, 3], 'w']"
   ]
  },
  {
   "cell_type": "code",
   "execution_count": 26,
   "id": "b4405ada-493e-4353-885a-6d3bdc761b7f",
   "metadata": {},
   "outputs": [
    {
     "data": {
      "text/plain": [
       "[1, [2, 3], 'w']"
      ]
     },
     "execution_count": 26,
     "metadata": {},
     "output_type": "execute_result"
    }
   ],
   "source": [
    "lst7"
   ]
  },
  {
   "cell_type": "code",
   "execution_count": 27,
   "id": "83b2a171-1ecb-464b-b586-2207763edc2c",
   "metadata": {},
   "outputs": [],
   "source": [
    "lst8 = [1, (2, 3)]"
   ]
  },
  {
   "cell_type": "code",
   "execution_count": 28,
   "id": "78d85644-0aa6-4bd6-add1-dc3b0ad5067c",
   "metadata": {},
   "outputs": [
    {
     "data": {
      "text/plain": [
       "[1, (2, 3)]"
      ]
     },
     "execution_count": 28,
     "metadata": {},
     "output_type": "execute_result"
    }
   ],
   "source": [
    "lst8"
   ]
  },
  {
   "cell_type": "markdown",
   "id": "8bd0b4cc-74bd-411a-8abc-7bcd7661bdc1",
   "metadata": {},
   "source": [
    "#### Acessando valores da lista"
   ]
  },
  {
   "cell_type": "code",
   "execution_count": 29,
   "id": "b4d05749-b4de-41a5-8ea9-34cb1ec8b703",
   "metadata": {},
   "outputs": [
    {
     "data": {
      "text/plain": [
       "1"
      ]
     },
     "execution_count": 29,
     "metadata": {},
     "output_type": "execute_result"
    }
   ],
   "source": [
    "lst7[0]"
   ]
  },
  {
   "cell_type": "code",
   "execution_count": 30,
   "id": "f797562c-0096-4117-82b3-14d9182ae001",
   "metadata": {},
   "outputs": [
    {
     "data": {
      "text/plain": [
       "[2, 3]"
      ]
     },
     "execution_count": 30,
     "metadata": {},
     "output_type": "execute_result"
    }
   ],
   "source": [
    "lst7[1]"
   ]
  },
  {
   "cell_type": "code",
   "execution_count": 31,
   "id": "d5bd1f15-a50d-4c4d-a4d4-855d59a7e045",
   "metadata": {},
   "outputs": [
    {
     "data": {
      "text/plain": [
       "'w'"
      ]
     },
     "execution_count": 31,
     "metadata": {},
     "output_type": "execute_result"
    }
   ],
   "source": [
    "lst7[2]"
   ]
  },
  {
   "cell_type": "code",
   "execution_count": 32,
   "id": "cb42650c-6f2f-4346-a232-00fd6fe8ff97",
   "metadata": {},
   "outputs": [
    {
     "data": {
      "text/plain": [
       "2"
      ]
     },
     "execution_count": 32,
     "metadata": {},
     "output_type": "execute_result"
    }
   ],
   "source": [
    "lst7 [1][0]"
   ]
  },
  {
   "cell_type": "markdown",
   "id": "d13a2d8a-f52f-4767-94b2-5303f6702709",
   "metadata": {},
   "source": [
    "#### Juntando Liscas"
   ]
  },
  {
   "cell_type": "code",
   "execution_count": 33,
   "id": "914922e4-3451-4b81-8e5a-21f6a62fcdf0",
   "metadata": {},
   "outputs": [
    {
     "data": {
      "text/plain": [
       "[1, [2, 3], 'w']"
      ]
     },
     "execution_count": 33,
     "metadata": {},
     "output_type": "execute_result"
    }
   ],
   "source": [
    "lst7"
   ]
  },
  {
   "cell_type": "code",
   "execution_count": 34,
   "id": "e87872a2-e886-402a-bdc7-da4477863cda",
   "metadata": {},
   "outputs": [
    {
     "data": {
      "text/plain": [
       "[1, (2, 3)]"
      ]
     },
     "execution_count": 34,
     "metadata": {},
     "output_type": "execute_result"
    }
   ],
   "source": [
    "lst8"
   ]
  },
  {
   "cell_type": "code",
   "execution_count": 35,
   "id": "e82acb32-750a-45bb-8436-7fef62b7b268",
   "metadata": {},
   "outputs": [
    {
     "data": {
      "text/plain": [
       "[1, [2, 3], 'w', 1, (2, 3)]"
      ]
     },
     "execution_count": 35,
     "metadata": {},
     "output_type": "execute_result"
    }
   ],
   "source": [
    "lst7 + lst8"
   ]
  },
  {
   "cell_type": "code",
   "execution_count": 37,
   "id": "106f1065-6e39-4c5a-9418-46e361ba9aef",
   "metadata": {},
   "outputs": [
    {
     "data": {
      "text/plain": [
       "['a', 2, 4, 'c']"
      ]
     },
     "execution_count": 37,
     "metadata": {},
     "output_type": "execute_result"
    }
   ],
   "source": [
    "lst6"
   ]
  },
  {
   "cell_type": "code",
   "execution_count": 38,
   "id": "dd6e78f9-e24b-4dcf-a48d-a1452d14789d",
   "metadata": {},
   "outputs": [
    {
     "data": {
      "text/plain": [
       "['a', 2, 4, 'c', 'a', 2, 4, 'c', 'a', 2, 4, 'c']"
      ]
     },
     "execution_count": 38,
     "metadata": {},
     "output_type": "execute_result"
    }
   ],
   "source": [
    "lst6 * 3"
   ]
  },
  {
   "cell_type": "markdown",
   "id": "c162a731-87f4-4dd0-b927-76b4826cfd5c",
   "metadata": {},
   "source": [
    "#### Verificar se um objeto pertence a lista"
   ]
  },
  {
   "cell_type": "code",
   "execution_count": 39,
   "id": "a51f95df-9dbc-474a-815c-006fad711fa0",
   "metadata": {},
   "outputs": [
    {
     "data": {
      "text/plain": [
       "False"
      ]
     },
     "execution_count": 39,
     "metadata": {},
     "output_type": "execute_result"
    }
   ],
   "source": [
    "\"A\" in lst6"
   ]
  },
  {
   "cell_type": "code",
   "execution_count": 40,
   "id": "9c03856d-10a9-4676-9646-5af1ebdc89ea",
   "metadata": {},
   "outputs": [
    {
     "data": {
      "text/plain": [
       "True"
      ]
     },
     "execution_count": 40,
     "metadata": {},
     "output_type": "execute_result"
    }
   ],
   "source": [
    "\"a\" in lst6"
   ]
  },
  {
   "cell_type": "markdown",
   "id": "c0b103a9-1124-4a18-aa54-c71f625eeb9f",
   "metadata": {},
   "source": [
    "#### Metodos"
   ]
  },
  {
   "cell_type": "code",
   "execution_count": 41,
   "id": "187f67eb-4422-4d46-a1da-4ea82fb82809",
   "metadata": {},
   "outputs": [
    {
     "data": {
      "text/plain": [
       "[1, 2, 3]"
      ]
     },
     "execution_count": 41,
     "metadata": {},
     "output_type": "execute_result"
    }
   ],
   "source": [
    "lst5"
   ]
  },
  {
   "cell_type": "code",
   "execution_count": 44,
   "id": "0377521f-822a-4b47-8a8e-f61acb2c94aa",
   "metadata": {},
   "outputs": [
    {
     "data": {
      "text/plain": [
       "'c'"
      ]
     },
     "execution_count": 44,
     "metadata": {},
     "output_type": "execute_result"
    }
   ],
   "source": [
    "lst6.pop()"
   ]
  },
  {
   "cell_type": "code",
   "execution_count": 45,
   "id": "3e2440df-26be-4458-b6cb-4a73c0000e55",
   "metadata": {},
   "outputs": [
    {
     "data": {
      "text/plain": [
       "4"
      ]
     },
     "execution_count": 45,
     "metadata": {},
     "output_type": "execute_result"
    }
   ],
   "source": [
    "lst6.pop(2)"
   ]
  },
  {
   "cell_type": "code",
   "execution_count": 46,
   "id": "ceed5ecc-d620-425b-9f12-ac52bb74f089",
   "metadata": {},
   "outputs": [
    {
     "data": {
      "text/plain": [
       "['a', 2]"
      ]
     },
     "execution_count": 46,
     "metadata": {},
     "output_type": "execute_result"
    }
   ],
   "source": [
    "lst6"
   ]
  },
  {
   "cell_type": "code",
   "execution_count": 47,
   "id": "a47fabe8-6a6c-48a7-a2f5-e06740c1fbfd",
   "metadata": {},
   "outputs": [],
   "source": [
    "lst.append (\"c\")"
   ]
  },
  {
   "cell_type": "code",
   "execution_count": 48,
   "id": "bc29126f-f27b-4e74-b9ae-79cca3379b58",
   "metadata": {},
   "outputs": [
    {
     "data": {
      "text/plain": [
       "[1, 'c']"
      ]
     },
     "execution_count": 48,
     "metadata": {},
     "output_type": "execute_result"
    }
   ],
   "source": [
    "lst"
   ]
  },
  {
   "cell_type": "code",
   "execution_count": 51,
   "id": "5a6294e4-4f34-49cd-8832-dacc2d1a3c0f",
   "metadata": {},
   "outputs": [],
   "source": [
    "lst9 = [3, 9, 1, 0, 3, 10, 4, 6]"
   ]
  },
  {
   "cell_type": "code",
   "execution_count": 52,
   "id": "42a458a1-4088-4d68-b932-46745126c45a",
   "metadata": {},
   "outputs": [],
   "source": [
    "lst9.sort()"
   ]
  },
  {
   "cell_type": "code",
   "execution_count": 53,
   "id": "7e9caa94-7dc9-4b9e-92a1-d0aacb1d361b",
   "metadata": {},
   "outputs": [
    {
     "data": {
      "text/plain": [
       "[0, 1, 3, 3, 4, 6, 9, 10]"
      ]
     },
     "execution_count": 53,
     "metadata": {},
     "output_type": "execute_result"
    }
   ],
   "source": [
    "lst9"
   ]
  },
  {
   "cell_type": "code",
   "execution_count": 54,
   "id": "5c887829-db26-4f57-befd-917ee5293fdb",
   "metadata": {},
   "outputs": [],
   "source": [
    "lst9.sort(reverse=True)"
   ]
  },
  {
   "cell_type": "code",
   "execution_count": 55,
   "id": "9eba809d-5924-447e-b3fd-5b19c05991bc",
   "metadata": {},
   "outputs": [
    {
     "data": {
      "text/plain": [
       "[10, 9, 6, 4, 3, 3, 1, 0]"
      ]
     },
     "execution_count": 55,
     "metadata": {},
     "output_type": "execute_result"
    }
   ],
   "source": [
    "lst9"
   ]
  },
  {
   "cell_type": "code",
   "execution_count": 56,
   "id": "4414dfd6-6689-4c92-ae5f-0554235051b4",
   "metadata": {},
   "outputs": [
    {
     "data": {
      "text/plain": [
       "4"
      ]
     },
     "execution_count": 56,
     "metadata": {},
     "output_type": "execute_result"
    }
   ],
   "source": [
    "lst9.index(3)"
   ]
  },
  {
   "cell_type": "code",
   "execution_count": 57,
   "id": "5d9405db-3d38-4aeb-a95f-fa09e596419c",
   "metadata": {},
   "outputs": [
    {
     "data": {
      "text/plain": [
       "2"
      ]
     },
     "execution_count": 57,
     "metadata": {},
     "output_type": "execute_result"
    }
   ],
   "source": [
    "lst9.count(3)"
   ]
  },
  {
   "cell_type": "code",
   "execution_count": null,
   "id": "8ff3dd32-1a3c-4ecf-b990-2ed8e3516bf2",
   "metadata": {},
   "outputs": [],
   "source": []
  }
 ],
 "metadata": {
  "kernelspec": {
   "display_name": "Python 3 (ipykernel)",
   "language": "python",
   "name": "python3"
  },
  "language_info": {
   "codemirror_mode": {
    "name": "ipython",
    "version": 3
   },
   "file_extension": ".py",
   "mimetype": "text/x-python",
   "name": "python",
   "nbconvert_exporter": "python",
   "pygments_lexer": "ipython3",
   "version": "3.12.0"
  }
 },
 "nbformat": 4,
 "nbformat_minor": 5
}
